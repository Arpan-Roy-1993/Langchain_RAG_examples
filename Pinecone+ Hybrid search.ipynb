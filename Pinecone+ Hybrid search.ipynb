{
 "cells": [
  {
   "cell_type": "code",
   "execution_count": null,
   "id": "initial_id",
   "metadata": {
    "collapsed": true
   },
   "outputs": [],
   "source": [
    ""
   ]
  },
  {
   "metadata": {
    "ExecuteTime": {
     "end_time": "2025-05-12T19:54:33.945158Z",
     "start_time": "2025-05-12T19:53:55.698563Z"
    }
   },
   "cell_type": "code",
   "source": "!pip install --upgrade --quiet langchain pinecone-client pinecone-text openai\n",
   "id": "93c5f0b7b9b78506",
   "outputs": [
    {
     "name": "stderr",
     "output_type": "stream",
     "text": [
      "  error: subprocess-exited-with-error\n",
      "  \n",
      "  × Preparing metadata (pyproject.toml) did not run successfully.\n",
      "  │ exit code: 1\n",
      "  ╰─> [21 lines of output]\n",
      "      + C:\\Users\\arpan\\OneDrive\\Documents\\GitHub\\Updated-Langchain\\.venv\\Scripts\\python.exe C:\\Users\\arpan\\AppData\\Local\\Temp\\pip-install-nq4kv_9c\\numpy_839b35b77a334e2a805e9ffa0740109d\\vendored-meson\\meson\\meson.py setup C:\\Users\\arpan\\AppData\\Local\\Temp\\pip-install-nq4kv_9c\\numpy_839b35b77a334e2a805e9ffa0740109d C:\\Users\\arpan\\AppData\\Local\\Temp\\pip-install-nq4kv_9c\\numpy_839b35b77a334e2a805e9ffa0740109d\\.mesonpy-vtrfctgt -Dbuildtype=release -Db_ndebug=if-release -Db_vscrt=md --native-file=C:\\Users\\arpan\\AppData\\Local\\Temp\\pip-install-nq4kv_9c\\numpy_839b35b77a334e2a805e9ffa0740109d\\.mesonpy-vtrfctgt\\meson-python-native-file.ini\n",
      "      The Meson build system\n",
      "      Version: 1.2.99\n",
      "      Source dir: C:\\Users\\arpan\\AppData\\Local\\Temp\\pip-install-nq4kv_9c\\numpy_839b35b77a334e2a805e9ffa0740109d\n",
      "      Build dir: C:\\Users\\arpan\\AppData\\Local\\Temp\\pip-install-nq4kv_9c\\numpy_839b35b77a334e2a805e9ffa0740109d\\.mesonpy-vtrfctgt\n",
      "      Build type: native build\n",
      "      Project name: NumPy\n",
      "      Project version: 1.26.4\n",
      "      WARNING: Failed to activate VS environment: Could not find C:\\Program Files (x86)\\Microsoft Visual Studio\\Installer\\vswhere.exe\n",
      "      \n",
      "      ..\\meson.build:1:0: ERROR: Unknown compiler(s): [['icl'], ['cl'], ['cc'], ['gcc'], ['clang'], ['clang-cl'], ['pgcc']]\n",
      "      The following exception(s) were encountered:\n",
      "      Running `icl \"\"` gave \"[WinError 2] The system cannot find the file specified\"\n",
      "      Running `cl /?` gave \"[WinError 2] The system cannot find the file specified\"\n",
      "      Running `cc --version` gave \"[WinError 2] The system cannot find the file specified\"\n",
      "      Running `gcc --version` gave \"[WinError 2] The system cannot find the file specified\"\n",
      "      Running `clang --version` gave \"[WinError 2] The system cannot find the file specified\"\n",
      "      Running `clang-cl /?` gave \"[WinError 2] The system cannot find the file specified\"\n",
      "      Running `pgcc --version` gave \"[WinError 2] The system cannot find the file specified\"\n",
      "      \n",
      "      A full log can be found at C:\\Users\\arpan\\AppData\\Local\\Temp\\pip-install-nq4kv_9c\\numpy_839b35b77a334e2a805e9ffa0740109d\\.mesonpy-vtrfctgt\\meson-logs\\meson-log.txt\n",
      "      [end of output]\n",
      "  \n",
      "  note: This error originates from a subprocess, and is likely not a problem with pip.\n",
      "\n",
      "[notice] A new release of pip is available: 25.0.1 -> 25.1.1\n",
      "[notice] To update, run: python.exe -m pip install --upgrade pip\n",
      "error: metadata-generation-failed\n",
      "\n",
      "× Encountered error while generating package metadata.\n",
      "╰─> See above for output.\n",
      "\n",
      "note: This is an issue with the package mentioned above, not pip.\n",
      "hint: See above for details.\n"
     ]
    }
   ],
   "execution_count": 2
  },
  {
   "metadata": {
    "ExecuteTime": {
     "end_time": "2025-05-12T20:20:00.365008Z",
     "start_time": "2025-05-12T20:20:00.338650Z"
    }
   },
   "cell_type": "code",
   "source": [
    "import pinecone\n",
    "from pinecone import ServerlessSpec\n",
    "import os\n",
    "\n",
    "# Initialize Pinecone\n",
    "pinecone.init(api_key=os.environ[\"PINECONE_API_KEY\"], environment=\"us-east-1-aws\")\n",
    "\n",
    "# Define index name and dimensions\n",
    "index_name = \"hybrid-search-index\"\n",
    "dimension = 1536  # Adjust based on your embedding model\n",
    "\n",
    "# Create index if it doesn't exist\n",
    "if index_name not in pinecone.list_indexes():\n",
    "    pinecone.create_index(\n",
    "        name=index_name,\n",
    "        dimension=dimension,\n",
    "        metric=\"dotproduct\",\n",
    "        spec=ServerlessSpec(cloud=\"aws\", region=\"us-east-1\")\n",
    "    )\n",
    "\n",
    "# Connect to the index\n",
    "index = pinecone.Index(index_name)\n",
    "\n",
    "import os\n",
    "from dotenv import load_dotenv\n",
    "load_dotenv()\n",
    "from langchain_huggingface import HuggingFaceEmbeddings\n",
    "embeddings = HuggingFaceEmbeddings(model_name=\"all-MiniLM-L6-v2\")\n",
    "from pinecone_text.sparse import BM25Encoder\n",
    "\n",
    "# Initialize embedding model\n",
    "embedding_model = OpenAIEmbeddings()\n",
    "\n",
    "# Initialize BM25 encoder\n",
    "bm25_encoder = BM25Encoder().default()\n",
    "\n",
    "# Fit BM25 encoder on your corpus\n",
    "corpus = [\"Document 1 text\", \"Document 2 text\", \"Document 3 text\"]\n",
    "bm25_encoder.fit(corpus)\n",
    "\n",
    "# Optionally, save and load BM25 values\n",
    "bm25_encoder.dump(\"bm25_values.json\")\n",
    "bm25_encoder = BM25Encoder().load(\"bm25_values.json\")\n",
    "\n",
    "from langchain.retrievers import PineconeHybridSearchRetriever\n",
    "\n",
    "# Initialize the retriever\n",
    "retriever = PineconeHybridSearchRetriever(\n",
    "    embeddings=embedding_model,\n",
    "    sparse_encoder=bm25_encoder,\n",
    "    index=index\n",
    ")\n",
    "\n",
    "documents = [\"Document 1 text\", \"Document 2 text\", \"Document 3 text\"]\n",
    "retriever.add_texts(documents)\n",
    "\n",
    "query = \"Your search query here\"\n",
    "results = retriever.invoke(query)\n",
    "\n",
    "# Display the results\n",
    "for doc in results:\n",
    "    print(doc.page_content)"
   ],
   "id": "b55247133db55a",
   "outputs": [
    {
     "ename": "KeyError",
     "evalue": "'PINECONE_API_KEY'",
     "output_type": "error",
     "traceback": [
      "\u001B[31m---------------------------------------------------------------------------\u001B[39m",
      "\u001B[31mKeyError\u001B[39m                                  Traceback (most recent call last)",
      "\u001B[36mCell\u001B[39m\u001B[36m \u001B[39m\u001B[32mIn[6]\u001B[39m\u001B[32m, line 5\u001B[39m\n\u001B[32m      2\u001B[39m \u001B[38;5;28;01mfrom\u001B[39;00m\u001B[38;5;250m \u001B[39m\u001B[34;01mpinecone\u001B[39;00m\u001B[38;5;250m \u001B[39m\u001B[38;5;28;01mimport\u001B[39;00m ServerlessSpec\n\u001B[32m      4\u001B[39m \u001B[38;5;66;03m# Initialize Pinecone\u001B[39;00m\n\u001B[32m----> \u001B[39m\u001B[32m5\u001B[39m pinecone.init(api_key=\u001B[43mos\u001B[49m\u001B[43m.\u001B[49m\u001B[43menviron\u001B[49m\u001B[43m[\u001B[49m\u001B[33;43m\"\u001B[39;49m\u001B[33;43mPINECONE_API_KEY\u001B[39;49m\u001B[33;43m\"\u001B[39;49m\u001B[43m]\u001B[49m, environment=\u001B[33m\"\u001B[39m\u001B[33mus-east-1-aws\u001B[39m\u001B[33m\"\u001B[39m)\n\u001B[32m      7\u001B[39m \u001B[38;5;66;03m# Define index name and dimensions\u001B[39;00m\n\u001B[32m      8\u001B[39m index_name = \u001B[33m\"\u001B[39m\u001B[33mhybrid-search-index\u001B[39m\u001B[33m\"\u001B[39m\n",
      "\u001B[36mFile \u001B[39m\u001B[32m<frozen os>:716\u001B[39m, in \u001B[36m__getitem__\u001B[39m\u001B[34m(self, key)\u001B[39m\n",
      "\u001B[31mKeyError\u001B[39m: 'PINECONE_API_KEY'"
     ]
    }
   ],
   "execution_count": 6
  },
  {
   "metadata": {},
   "cell_type": "code",
   "outputs": [],
   "execution_count": null,
   "source": "",
   "id": "f7539542dd731e45"
  }
 ],
 "metadata": {
  "kernelspec": {
   "display_name": "Python 3",
   "language": "python",
   "name": "python3"
  },
  "language_info": {
   "codemirror_mode": {
    "name": "ipython",
    "version": 2
   },
   "file_extension": ".py",
   "mimetype": "text/x-python",
   "name": "python",
   "nbconvert_exporter": "python",
   "pygments_lexer": "ipython2",
   "version": "2.7.6"
  }
 },
 "nbformat": 4,
 "nbformat_minor": 5
}
